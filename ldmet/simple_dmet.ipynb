{
 "cells": [
  {
   "cell_type": "markdown",
   "metadata": {},
   "source": [
    "## A simple DMET script for 1D Hubbard-Like model"
   ]
  },
  {
   "cell_type": "code",
   "execution_count": 13,
   "metadata": {},
   "outputs": [
    {
     "name": "stdout",
     "output_type": "stream",
     "text": [
      "amarel1.amarel.rutgers.edu\n"
     ]
    }
   ],
   "source": [
    "!hostname"
   ]
  },
  {
   "cell_type": "code",
   "execution_count": 25,
   "metadata": {},
   "outputs": [],
   "source": [
    "import numpy as np\n",
    "from pyscf import fci \n",
    "from scipy.optimize import minimize # for chem potential minimization"
   ]
  },
  {
   "cell_type": "code",
   "execution_count": 15,
   "metadata": {},
   "outputs": [],
   "source": [
    "# Setting up the system\n",
    "norb = 6\n",
    "nimp = 2 # impurity orbitals\n",
    "nemb = nimp*2\n",
    "ne = norb//2\n",
    "ne_emb = nimp\n",
    "ne_imp = ne // (norb // nimp)\n",
    "U = 4"
   ]
  },
  {
   "cell_type": "code",
   "execution_count": 32,
   "metadata": {},
   "outputs": [],
   "source": [
    "# Hamiltonian Hubbard 1D, pbc, one spin case\n",
    "h1e = np.zeros((norb, norb))\n",
    "h2e = np.zeros((norb,)*4)\n",
    "for i in range(norb):\n",
    "    h1e[i, (i+1)%norb] = -1\n",
    "    h1e[i, (i-1)%norb] = -1\n",
    "    h2e[i,i,(i+1)%norb,(i+1)%norb] = U # We need off-diagonal U because diagonal U only works on alpha-beta, and we only have alpha electrons\n",
    "    h2e[(i+1)%norb,(i+1)%norb, i, i] = U\n"
   ]
  },
  {
   "cell_type": "code",
   "execution_count": 33,
   "metadata": {},
   "outputs": [],
   "source": [
    "# Initialize correlation potential\n",
    "u_corr0 = np.zeros((nimp, nimp))"
   ]
  },
  {
   "cell_type": "code",
   "execution_count": 34,
   "metadata": {},
   "outputs": [],
   "source": [
    "# add correlation potential to the 1-body Hamiltonian\n",
    "def add_u_corr(h1e, u_corr, nimp):\n",
    "    n_cell = norb // nimp \n",
    "    h1e_new = np.copy(h1e)\n",
    "    for x in range(n_cell):\n",
    "        h1e_new[x*nimp:(x+1)*nimp, x*nimp:(x+1)*nimp] += u_corr \n",
    "    return h1e_new \n",
    "\n",
    "h1e_new = add_u_corr(h1e, u_corr0, nimp)"
   ]
  },
  {
   "cell_type": "code",
   "execution_count": 35,
   "metadata": {},
   "outputs": [],
   "source": [
    "# Solve low-level Hamiltonian and evaluate the rdm1\n",
    "ew, ev = np.linalg.eigh(h1e_new)\n",
    "orb_occ = ev[:, :ne]\n",
    "rdm1 = np.dot(orb_occ, orb_occ.T)"
   ]
  },
  {
   "cell_type": "code",
   "execution_count": 36,
   "metadata": {},
   "outputs": [],
   "source": [
    "# construct bath from rdm1\n",
    "rdm1_mix = rdm1[nimp:, :nimp]\n",
    "bath, s, _ = np.linalg.svd(rdm1_mix, full_matrices=False) # s should show how correlated A and E are"
   ]
  },
  {
   "cell_type": "code",
   "execution_count": 37,
   "metadata": {},
   "outputs": [],
   "source": [
    "# construct rotation (projection) matrix to the embedding space\n",
    "rotmat = np.zeros((norb, nimp*2))\n",
    "rotmat[:nimp, :nimp] = np.eye(nimp)\n",
    "rotmat[nimp:, nimp:] = bath "
   ]
  },
  {
   "cell_type": "code",
   "execution_count": 38,
   "metadata": {},
   "outputs": [],
   "source": [
    "# construct embedding Hamiltonian with interacting bath formulation\n",
    "h1e_emb = np.dot(np.dot(rotmat.T.conj(), h1e), rotmat) \n",
    "h2e_emb = np.einsum('pi, qj, pqrs, rk, sl ->ijkl', rotmat.conj(), rotmat.conj(), h2e, rotmat, rotmat) # using pyscf tradition c^+ c^+ c c\n"
   ]
  },
  {
   "cell_type": "code",
   "execution_count": 39,
   "metadata": {},
   "outputs": [],
   "source": [
    "# fci solver for spinless case (only have alpha electrons)\n",
    "\n",
    "def fci_spinless(h1e, eri, norb, ne):\n",
    "    nelec = (ne, 0)\n",
    "    cisolver = fci.direct_spin1\n",
    "    e, c = cisolver.kernel(h1e, eri, norb, nelec)\n",
    "    rdm1 = cisolver.make_rdm1(c, norb, nelec)\n",
    "    return e, rdm1 "
   ]
  },
  {
   "cell_type": "code",
   "execution_count": 59,
   "metadata": {},
   "outputs": [
    {
     "name": "stdout",
     "output_type": "stream",
     "text": [
      "Electron number diff: 0.10359515664914176\n",
      "Electron number diff: 0.10359515664914176\n"
     ]
    },
    {
     "name": "stdout",
     "output_type": "stream",
     "text": [
      "Electron number diff: 0.020309221567981206\n",
      "Electron number diff: 0.10942570812723629\n",
      "Electron number diff: 0.02458160943051424\n",
      "Electron number diff: 0.0492622757392186\n",
      "Electron number diff: 0.0009211635109995786\n",
      "Electron number diff: 0.008226598813688923\n",
      "Electron number diff: 0.010075294278874436\n",
      "Electron number diff: 0.10107680500695748\n",
      "Electron number diff: 0.0009211635109995786\n",
      "Electron number diff: 0.10107680500695748\n",
      "Electron number diff: 0.19808641328979015\n",
      "Electron number diff: 0.0600597438626882\n",
      "Electron number diff: 0.03453528471493161\n",
      "Electron number diff: 0.005361470342082786\n",
      "Electron number diff: 0.006890484878522285\n",
      "Electron number diff: 0.0003301875858467973\n",
      "Electron number diff: 0.0022482337453553214\n",
      "Electron number diff: 0.00020505322484343225\n",
      "Electron number diff: 0.00011485170824543367\n",
      "Electron number diff: 0.00042283231639173025\n",
      "Electron number diff: 3.422158194488212e-05\n",
      "Electron number diff: 5.447153740356647e-05\n",
      "Electron number diff: 3.422158194488212e-05\n",
      "Electron number diff: 0.0008527181208473067\n",
      "Electron number diff: 0.0014693500687342764\n",
      "Electron number diff: 0.0005823778918845335\n",
      "Electron number diff: 0.00030455635410242543\n",
      "Electron number diff: 6.16500952611565e-05\n",
      "Electron number diff: 5.3902850156717363e-05\n",
      "Electron number diff: 5.610455959814686e-07\n",
      "Electron number diff: 4.869103472415759e-06\n",
      "Electron number diff: 6.4925798448634e-06\n",
      "Optimized global chemical potential (mu_global): [1.27999222]\n"
     ]
    }
   ],
   "source": [
    "# add a global chemical potential to make sure the impurity electron  = ne_imp\n",
    "# we need to optimize the chemical potential\n",
    "mu_global0 = 0.0\n",
    "def diff_ne_imp(mu):\n",
    "    mu_glob_mat = np.zeros((nemb, nemb))\n",
    "    mu_glob_mat[:nimp, :nimp] = np.eye(nimp)*mu\n",
    "    h1e_emb_new = h1e_emb - mu_glob_mat\n",
    "    _, rdm1_emb = fci_spinless(h1e_emb_new, h2e_emb, 2*nimp, ne_emb)\n",
    "    ne_imp_n = np.sum(np.diag(rdm1_emb)[:nimp])\n",
    "    ne_diff = abs(ne_imp_n - ne_imp)\n",
    "    print(f\"Electron number diff: {ne_diff}\")\n",
    "    return ne_diff\n",
    "\n",
    "# optimize mu_global to minimize diff_ne_imp\n",
    "mu_global = minimize(diff_ne_imp, x0=mu_global0, method=\"Powell\", tol=1e-3, options={'maxiter': 2}).x\n",
    "print(f\"Optimized global chemical potential (mu_global): {mu_global}\")"
   ]
  },
  {
   "cell_type": "code",
   "execution_count": 61,
   "metadata": {},
   "outputs": [],
   "source": [
    "#solve the embedding Hamiltonian\n",
    "mu_glob_mat = np.zeros((nemb, nemb))\n",
    "mu_glob_mat[:nimp, :nimp] = np.eye(nimp)*mu_global\n",
    "h1e_emb_new = h1e_emb - mu_glob_mat\n",
    "e, rdm1_emb = fci_spinless(h1e_emb_new, h2e_emb, 2*nimp, ne_emb)"
   ]
  },
  {
   "cell_type": "code",
   "execution_count": 66,
   "metadata": {},
   "outputs": [
    {
     "name": "stdout",
     "output_type": "stream",
     "text": [
      "RDM1 diff = 0.0937182295822739, we need to change the correlation potential!\n"
     ]
    }
   ],
   "source": [
    "# Next compare the difference between the two RDM1s\n",
    "rdm1_latt_emb = np.dot(np.dot(rotmat.T, rdm1), rotmat)\n",
    "# We only compare the impurity part of rdm1\n",
    "rdm1_tol = 1e-5\n",
    "rdm1_imp_diff = rdm1_emb[:nimp, :nimp] - rdm1_latt_emb[:nimp, :nimp] \n",
    "abs_rdm1_imp_diff = np.linalg.norm(rdm1_imp_diff)\n",
    "if abs_rdm1_imp_diff < rdm1_tol:\n",
    "    print(\"RDM1 are the same, DMET converged\")\n",
    "else:\n",
    "    print(f\"RDM1 diff = {abs_rdm1_imp_diff}, we need to change the correlation potential!\")"
   ]
  },
  {
   "cell_type": "markdown",
   "metadata": {},
   "source": [
    "### Deriving the gradient for optimizing the correlation potential\n",
    "We want to minimize\n",
    "$$f(u) = (D_{\\text{FCI}} - D_{\\text{HF}}(u))^2$$\n",
    "The gradient is\n",
    "$$\\frac{\\partial f(u)}{\\partial u_ij} = $$"
   ]
  },
  {
   "cell_type": "code",
   "execution_count": null,
   "metadata": {},
   "outputs": [],
   "source": []
  }
 ],
 "metadata": {
  "kernelspec": {
   "display_name": "chem",
   "language": "python",
   "name": "python3"
  },
  "language_info": {
   "codemirror_mode": {
    "name": "ipython",
    "version": 3
   },
   "file_extension": ".py",
   "mimetype": "text/x-python",
   "name": "python",
   "nbconvert_exporter": "python",
   "pygments_lexer": "ipython3",
   "version": "3.10.18"
  }
 },
 "nbformat": 4,
 "nbformat_minor": 2
}
