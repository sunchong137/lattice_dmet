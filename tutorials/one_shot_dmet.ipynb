{
 "cells": [
  {
   "cell_type": "markdown",
   "metadata": {},
   "source": [
    "# A simple One-Shot DMET code for 1D Hubbard-Like model\n",
    "\n",
    "Chong Sun\n",
    "\n",
    "We present a very simple DMET python code for Fermionic lattice models. \n",
    "The purpose of this notebook is to explain the algorithm. The idea of DMET algorithm is shown as follows\n",
    "\n",
    "<img src=\"./images/DMET.png\" alt=\"DMET Algorithm\" width=\"700\"/>\n",
    "\n",
    "<!-- <img src=\"./images/DMET_flowchart.png\" alt=\"DMET Algorithm flowchart\" width=\"400\"/> -->\n",
    "\n",
    "In this one-shot DMET, we will not construct the DMET loop to optimize the correlation potential, instead, our goal is to **find the next correlation potetial**.\n",
    "\n",
    "There are many different numerical choices when implementing DMET, and you can find them in this paper: [Wouters et al. JCTC, 12, 6, 2706-2719](https://pubs.acs.org/doi/10.1021/acs.jctc.6b00316). Here we stick to **one** implementation, so you don't get confused!\n"
   ]
  },
  {
   "cell_type": "code",
   "execution_count": 1,
   "metadata": {},
   "outputs": [],
   "source": [
    "import numpy as np\n",
    "from pyscf import fci \n",
    "from scipy.optimize import minimize # for chem potential minimization"
   ]
  },
  {
   "cell_type": "markdown",
   "metadata": {},
   "source": [
    "## Setting up the system\n",
    "We need the information for both (1) the whole lattice and (2) the impurity. \n",
    "Here, we only consider systems with **translational symmetry** and **periodic boundary conditions (PBC)**. \n",
    "We use the a Hubbard-like Hamiltonian as an example:\n",
    "$$H = -t\\sum_{i=1}^N (a^\\dagger_i a_{i+1} + \\text{h.c.}) + U\\sum_{i=1}^N n_i n_{i+1}$$\n",
    "where $N$ is the number of sites (or orbitals in the chem language), and $n_i = a^\\dagger_i a_i$ is the number operator. We set $N+1 = 0$ to enforce PBC. The one-body term represents electron hopping between adjacent sites with amplitude $-t$, and the two-body term represents Columb repulsion between adjacent sites with strength $U$.\n",
    "\n",
    "For simplicity, we will not consider systems with different spins. We assume there are only up spins in the lattice.\n",
    "### Impurity (fragment) setup\n",
    "We pick the first $N_\\text{imp}$ sites as the impurity (fragment, cell), and the rest is the environment. \n",
    "Due to translational symmetry, the impurity shares the same property as the second, third ... $N_\\text{imp}$ sites, which makes it easy to evaluate the properties of the whole system. E.g.,\n",
    "$$E_\\text{tot} = \\frac{N}{N_\\text{imp}} E_\\text{imp}$$\n",
    "Of course, $E_\\text{tot}$ is only a good approximation, but not the exact total energy, because the embedding is not exact! "
   ]
  },
  {
   "cell_type": "code",
   "execution_count": 2,
   "metadata": {},
   "outputs": [],
   "source": [
    "# Setting up the system\n",
    "norb = 6 # number of orbitals in the lattice\n",
    "nimp = 2 # number of impurity orbitals (fragments)\n",
    "ncell = norb // nimp # number of cells \n",
    "nemb = nimp*2 # embedding space is always twice of impurity space for ground state\n",
    "nelec = norb//2 # number of total electrons\n",
    "ne_emb = nimp # number of total electrons in the embedding space TODO, use the environmental RDM to generate \n",
    "ne_imp = nelec // ncell # due to translational invariance, the number of electrons is evenly distributed\n",
    "U = 4 # setting the interacting strength"
   ]
  },
  {
   "cell_type": "code",
   "execution_count": 10,
   "metadata": {},
   "outputs": [],
   "source": [
    "# Hamiltonian matrices\n",
    "h1e = np.zeros((norb, norb)) \n",
    "h2e = np.zeros((norb,)*4) # order: H2 = h2e_{pq,rs} p^+ q r^+ s = (pq|rs) p^+ r^+ s q - (pq|rs) \\delta_{qr} p^+ s\n",
    "for i in range(norb):\n",
    "    h1e[i, (i+1)%norb] = -1\n",
    "    h1e[i, (i-1)%norb] = -1\n",
    "    h2e[i,i,(i+1)%norb,(i+1)%norb] = U/2 \n",
    "    h2e[(i+1)%norb,(i+1)%norb, i, i] = U/2 # restoring the symmetry of real-valued h2e: V_{ij, kl} = V_{kl, ij} = V_{ji, lk} = V_{lk, ji}"
   ]
  },
  {
   "cell_type": "markdown",
   "metadata": {},
   "source": [
    "## Correlation potential\n",
    "In order to mimic the two-body interactions from the environment, we add a correlation potential $u$ to the impurity. "
   ]
  },
  {
   "cell_type": "code",
   "execution_count": 23,
   "metadata": {},
   "outputs": [],
   "source": [
    "# Initialize correlation potential\n",
    "n_param = nimp*(nimp+1)//2\n",
    "u_params0 = np.zeros(n_param) # because the correlation potential is hermitian, we only need the upper triangle\n",
    "# u_params0 = np.array([-0.38445013,  0.00963527, -0.00047456])\n",
    "def params2ucorr(params): \n",
    "    '''Turn parameters into the correlation potential matrix'''\n",
    "    u_corr = np.zeros((nimp, nimp), dtype=params.dtype)\n",
    "    iu = np.triu_indices(nimp)\n",
    "    u_corr[iu] = params\n",
    "    u_corr += u_corr.T\n",
    "    np.fill_diagonal(u_corr, np.diagonal(u_corr)/2)\n",
    "    return u_corr\n",
    "u_corr0 = params2ucorr(u_params0)\n",
    "\n",
    "def imp2latt_1e(m_imp):\n",
    "    '''Impurity to lattice '''\n",
    "    return np.kron(np.eye(ncell), m_imp)\n"
   ]
  },
  {
   "cell_type": "code",
   "execution_count": 24,
   "metadata": {},
   "outputs": [],
   "source": [
    "# add correlation potential to the 1-body Hamiltonian\n",
    "def add_u_corr(h1e, u_corr, nimp):\n",
    "    n_cell = norb // nimp \n",
    "    h1e_new = np.copy(h1e)\n",
    "    for x in range(n_cell):\n",
    "        h1e_new[x*nimp:(x+1)*nimp, x*nimp:(x+1)*nimp] += u_corr \n",
    "    return h1e_new \n",
    "\n",
    "h1e_new = add_u_corr(h1e, u_corr0, nimp)"
   ]
  },
  {
   "cell_type": "code",
   "execution_count": 25,
   "metadata": {},
   "outputs": [],
   "source": [
    "# Solve low-level Hamiltonian and evaluate the rdm1\n",
    "mo_e, mo_orbs = np.linalg.eigh(h1e_new)\n",
    "orb_occ = mo_orbs[:, :nelec]\n",
    "rdm1 = np.dot(orb_occ, orb_occ.T)"
   ]
  },
  {
   "cell_type": "code",
   "execution_count": 26,
   "metadata": {},
   "outputs": [],
   "source": [
    "# construct bath from rdm1\n",
    "rdm1_mix = rdm1[nimp:, :nimp]\n",
    "bath, s, _ = np.linalg.svd(rdm1_mix, full_matrices=False) # s should show how correlated A and E are"
   ]
  },
  {
   "cell_type": "code",
   "execution_count": 27,
   "metadata": {},
   "outputs": [],
   "source": [
    "# construct rotation (projection) matrix to the embedding space\n",
    "rotmat = np.zeros((norb, nimp*2))\n",
    "rotmat[:nimp, :nimp] = np.eye(nimp)\n",
    "rotmat[nimp:, nimp:] = bath "
   ]
  },
  {
   "cell_type": "code",
   "execution_count": 28,
   "metadata": {},
   "outputs": [],
   "source": [
    "# construct embedding Hamiltonian with interacting bath formulation\n",
    "h1e_emb = np.dot(np.dot(rotmat.T.conj(), h1e), rotmat) \n",
    "h2e_emb = np.einsum('pi, qj, pqrs, rk, sl ->ijkl', rotmat.conj(), rotmat.conj(), h2e, rotmat, rotmat) # using pyscf tradition c^+ c^+ c c\n"
   ]
  },
  {
   "cell_type": "code",
   "execution_count": 29,
   "metadata": {},
   "outputs": [],
   "source": [
    "# fci solver for spinless case (only have alpha electrons)\n",
    "\n",
    "def fci_spinless(h1e, eri, norb, nelec):\n",
    "    nelec = (nelec, 0)\n",
    "    cisolver = fci.direct_spin1\n",
    "    e, c = cisolver.kernel(h1e, eri, norb, nelec)\n",
    "    rdm1 = cisolver.make_rdm1(c, norb, nelec)\n",
    "    return e, rdm1 "
   ]
  },
  {
   "cell_type": "code",
   "execution_count": 30,
   "metadata": {},
   "outputs": [
    {
     "name": "stdout",
     "output_type": "stream",
     "text": [
      "Optimized global chemical potential (mu_global): [0.63999993]\n"
     ]
    }
   ],
   "source": [
    "# add a global chemical potential to make sure the impurity electron  = ne_imp\n",
    "# we need to optimize the chemical potential\n",
    "mu_global0 = 1.0\n",
    "def diff_ne_imp(mu):\n",
    "    mu_glob_mat = np.zeros((nemb, nemb))\n",
    "    mu_glob_mat[:nimp, :nimp] = np.eye(nimp)*mu\n",
    "    h1e_emb_new = h1e_emb - mu_glob_mat\n",
    "    _, rdm1_emb = fci_spinless(h1e_emb_new, h2e_emb, 2*nimp, ne_emb)\n",
    "    ne_imp_n = np.sum(np.diag(rdm1_emb)[:nimp])\n",
    "    ne_diff = abs(ne_imp_n - ne_imp)\n",
    "    #print(f\"Electron number diff: {ne_diff}\")\n",
    "    return ne_diff\n",
    "\n",
    "# optimize mu_global to minimize diff_ne_imp\n",
    "mu_global = minimize(diff_ne_imp, x0=mu_global0, method=\"Powell\", tol=1e-3, options={'maxiter': 3}).x\n",
    "print(f\"Optimized global chemical potential (mu_global): {mu_global}\")"
   ]
  },
  {
   "cell_type": "code",
   "execution_count": 31,
   "metadata": {},
   "outputs": [],
   "source": [
    "#solve the embedding Hamiltonian\n",
    "mu_glob_mat = np.zeros((nemb, nemb))\n",
    "mu_glob_mat[:nimp, :nimp] = np.eye(nimp)*mu_global\n",
    "h1e_emb_new = h1e_emb - mu_glob_mat\n",
    "e, rdm1_emb = fci_spinless(h1e_emb_new, h2e_emb, 2*nimp, ne_emb)"
   ]
  },
  {
   "cell_type": "code",
   "execution_count": 32,
   "metadata": {},
   "outputs": [
    {
     "name": "stdout",
     "output_type": "stream",
     "text": [
      "RDM1 diff = 0.0015246425788277142, we need to change the correlation potential!\n"
     ]
    }
   ],
   "source": [
    "# Next compare the difference between the two RDM1s\n",
    "rdm1_latt_emb = np.dot(np.dot(rotmat.T, rdm1), rotmat)\n",
    "# We only compare the impurity part of rdm1\n",
    "rdm1_tol = 1e-5\n",
    "rdm1_imp_diff = rdm1_emb[:nimp, :nimp] - rdm1_latt_emb[:nimp, :nimp] \n",
    "abs_rdm1_imp_diff = (rdm1_imp_diff**2).sum()\n",
    "if abs_rdm1_imp_diff < rdm1_tol:\n",
    "    print(\"RDM1 are the same, DMET converged\")\n",
    "else:\n",
    "    print(f\"RDM1 diff = {abs_rdm1_imp_diff}, we need to change the correlation potential!\")"
   ]
  },
  {
   "cell_type": "markdown",
   "metadata": {},
   "source": [
    "## Deriving the gradient for optimizing the correlation potential\n",
    "We want to minimize\n",
    "$$f(u) = ||D^\\text{emb}_{\\text{FCI}} - D^\\text{emb}_{\\text{HF}}(u)||^2 = \\sum_{ij}[D^\\text{emb}_{\\text{FCI}} - D^\\text{emb}_{\\text{HF}}(u)]_{ij}^2$$\n",
    "with respect to $u$.\n",
    "\n",
    "We derive the analytic gradient $\\rm{d} f/\\rm{d} u$. \n",
    "$$\\frac{\\rm{d} f}{\\rm{d} u} = -2\\sum_{ij}(D^\\text{emb}_{\\text{FCI}} - D^\\text{emb}_{\\text{HF}}(u))_{ij}\\frac{\\rm{d} D^\\text{emb}_{\\text{HF}}(u)}{\\rm{d} u}_{ij} $$\n",
    "where $D^\\text{emb}_{\\text{HF}}(u) = R^\\dagger D_{\\text{HF}}(u) R$ with $R$ being the projection operator to the embedding space. \n",
    "\n",
    "Next we evaluate $\\frac{\\rm{d} D_{\\text{HF}}(u)}{\\rm{d} u}$ using first-order perturbation theory. Let\n",
    "$$H = H^0 + \\delta H^1$$\n",
    "where $H^0$ and $H^1$ are both 1-body Hamiltonians, and\n",
    "$$H \\begin{bmatrix}C_\\text{occ} & C_\\text{vir} \\end{bmatrix} = \\begin{bmatrix}C_\\text{occ} & C_\\text{vir} \\end{bmatrix} \\begin{bmatrix}E_\\text{occ} & \\\\ & E_\\text{vir}\\end{bmatrix}$$\n",
    "Therefore, $D_{\\text{HF}}$ is evaluated as \n",
    "$$D_{\\text{HF}} = ( C^0_\\text{occ} + \\delta C^1_\\text{occ})( C^0_\\text{occ} + \\delta C^1_\\text{occ})^\\dagger$$\n",
    "And\n",
    "$$\\left.\\frac{\\partial D_{\\text{HF}}}{\\partial \\delta }\\right\\vert_{\\delta=0} = C^0_\\text{occ}C^{1,\\dagger}_\\text{occ} + C^1_\\text{occ}C^{0,\\dagger}_\\text{occ} + O(\\delta^2)$$\n",
    "\n",
    "#### Evaluating $C^1_\\text{occ}$\n",
    "\n",
    "Substituting $H = H^0 + \\delta H^1$, $C = C^0 + \\delta C^1$ and $E = E^0 + \\delta E^1$ into the Hamiltonian equation, and only take the first order of $\\delta$, we get \n",
    "$$H^0 C^1_\\text{occ} + H^1 C^0_\\text{occ} = C^1_\\text{occ} E^0_\\text{occ} + C^0_\\text{occ} E^1_\\text{occ}$$\n",
    "Multiplying $C^{0,\\dagger}_\\text{occ}$ to both sides of the above equation, and knowing the occupied first-order response orbitals are orthogonal to the zeroth order, we get\n",
    "$$E^1_\\text{occ} = C^{0,\\dagger}_\\text{occ} H^1 C^{0}_\\text{occ}$$\n",
    "\n",
    "Substituting the above equation back to the equation earlier, and notice that $C^{0}_\\text{occ}C^{0,\\dagger}_\\text{occ} = I - C^{0}_\\text{vir}C^{0,\\dagger}_\\text{vir}$, we get\n",
    "$$H^0C^1_\\text{occ} - C^1_\\text{occ}E^0_\\text{occ} = -C^{0}_\\text{vir}C^{0,\\dagger}_\\text{vir} H^1 C^0_\\text{occ}$$\n",
    "\n",
    "By multiplying $C^{0, \\dagger}_\\text{vir}$ from the left to both sides, and using $C^{0, \\dagger}_\\text{vir}H^0 = E^0_\\text{vir} C^{0, \\dagger}_\\text{vir}$ we get \n",
    "$$C^1_\\text{occ} = C^{0}_\\text{vir} Z$$\n",
    "where \n",
    "$$Z_{\\mu\\nu} = -\\frac{\\left(C^{0, \\dagger}_\\text{vir} H^1 C^{0}_\\text{occ}\\right)_{\\mu\\nu}}{E^0_{\\text{vir},\\mu} - E^0_{\\text{occ},\\nu}}$$\n",
    "\n",
    "Finally, we derive the gradient form\n",
    "$$\\left.\\frac{\\partial D_{\\text{HF}}}{\\partial \\delta }\\right\\vert_{\\delta=0} = C^{0}_\\text{occ} Z^\\dagger C^{0,\\dagger}_\\text{vir} + C^{0}_\\text{vir} Z C^{0,\\dagger}_\\text{occ} \\\\\n",
    "\\left.\\frac{\\partial D^\\text{emb}_{\\text{HF}}}{\\partial \\delta }\\right\\vert_{\\delta=0} = R^\\dagger \\left.\\frac{\\partial D_{\\text{HF}}}{\\partial \\delta }\\right\\vert_{\\delta=0} R\n",
    "$$\n",
    "\n",
    "In our case, $H_0 = h_0 + u^\\text{corr}$.\n",
    "For each $u^\\text{corr}_{\\mu\\nu}$, $H_1$ is the correlation potential $u^\\text{corr}_{\\mu\\nu} = 1$ and the rest to be 0."
   ]
  },
  {
   "cell_type": "code",
   "execution_count": 33,
   "metadata": {},
   "outputs": [
    {
     "name": "stdout",
     "output_type": "stream",
     "text": [
      "[ 0.0017704  -0.01410449 -0.0017704 ]\n"
     ]
    }
   ],
   "source": [
    "# evaluating the gradient \n",
    "orb_vir = mo_orbs[:, nelec:]\n",
    "e_occ, e_vir = mo_e[:nelec], mo_e[nelec:]\n",
    "# evaluate the gradient, a vector of the same size of uparams\n",
    "grad = np.zeros(n_param)\n",
    "E_diff_mat = (e_vir[:, None]-e_occ[None, :])\n",
    "for i in range(n_param):\n",
    "    uparam_tmp = np.zeros((n_param))\n",
    "    uparam_tmp[i] = 1.\n",
    "    du_corr_tmp = params2ucorr(uparam_tmp)\n",
    "    du_corr_latt_tmp = imp2latt_1e(du_corr_tmp)\n",
    "    Z = -np.dot(np.dot(orb_vir.T.conj(), du_corr_latt_tmp), orb_occ)/E_diff_mat\n",
    "    drdm_latt = np.dot(np.dot(orb_occ, Z), orb_vir.T.conj()) + np.dot(np.dot(orb_occ, Z), orb_vir.T.conj())\n",
    "    #drdm_emb = np.dot(np.dot(rotmat.T.conj(), drdm_latt), rotmat) # not the most efficient implementation, but straightforward\n",
    "    drdm_imp = drdm_latt[:nimp, :nimp] # could be made simpler \n",
    "    grad[i] = -2*(rdm1_imp_diff*drdm_imp).sum()\n",
    "print(grad)\n"
   ]
  },
  {
   "cell_type": "code",
   "execution_count": 34,
   "metadata": {},
   "outputs": [
    {
     "name": "stdout",
     "output_type": "stream",
     "text": [
      "[-0.00017704  0.00141045  0.00017704]\n"
     ]
    }
   ],
   "source": [
    "# The easiest thing to check the gradient is to see if it makes things better\n",
    "lr = 0.1 \n",
    "u_params_new = u_params0 - lr * grad \n",
    "print(u_params_new)\n"
   ]
  },
  {
   "cell_type": "code",
   "execution_count": null,
   "metadata": {},
   "outputs": [],
   "source": []
  },
  {
   "cell_type": "code",
   "execution_count": null,
   "metadata": {},
   "outputs": [],
   "source": []
  },
  {
   "cell_type": "code",
   "execution_count": null,
   "metadata": {},
   "outputs": [],
   "source": []
  }
 ],
 "metadata": {
  "kernelspec": {
   "display_name": "chem",
   "language": "python",
   "name": "python3"
  },
  "language_info": {
   "codemirror_mode": {
    "name": "ipython",
    "version": 3
   },
   "file_extension": ".py",
   "mimetype": "text/x-python",
   "name": "python",
   "nbconvert_exporter": "python",
   "pygments_lexer": "ipython3",
   "version": "3.11.13"
  }
 },
 "nbformat": 4,
 "nbformat_minor": 2
}
